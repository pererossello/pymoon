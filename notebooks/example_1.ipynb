{
 "cells": [
  {
   "cell_type": "code",
   "execution_count": 1,
   "id": "c0afd382",
   "metadata": {},
   "outputs": [],
   "source": [
    "%load_ext autoreload\n",
    "%autoreload 2\n",
    "\n",
    "import sys\n",
    "from PIL import Image\n",
    "\n",
    "import numpy as np\n",
    "import matplotlib.pyplot as plt\n",
    "\n",
    "sys.path.append('..')\n",
    "import pymoon\n",
    "from pymoon.config import *"
   ]
  },
  {
   "cell_type": "code",
   "execution_count": 2,
   "id": "3c44e304",
   "metadata": {},
   "outputs": [],
   "source": [
    "N_PIXELS = 1000\n",
    "model = 'lambert'\n",
    "shadows = False\n",
    "max_shadow_steps = 25\n",
    "gamma_correction = 1.5\n",
    "outside_color = \"#000000\"  # black\n",
    "radius = 0.95\n",
    "\n",
    "theta_S = pymoon.config.THETA_SUN\n",
    "\n",
    "alpha_deg = 45\n",
    "s_vec = [np.sin(np.radians(alpha_deg)), 0, np.cos(np.radians(alpha_deg))]\n",
    "\n",
    "obs_deg = 0\n",
    "obs_vec = [np.sin(np.radians(obs_deg)), 0, np.cos(np.radians(obs_deg))]\n",
    "\n",
    "moon_disk = pymoon.main.get_moon_mask(\n",
    "    N_PIXELS,\n",
    "    s_vec,\n",
    "    obs_vec=obs_vec,\n",
    "    dem=PATH_LDEM_4,\n",
    "    moonmap=PATH_LROC_COLOR_2K,\n",
    "    theta_S=THETA_SUN,\n",
    "    model=model,\n",
    "    shadows=shadows,\n",
    "    shadow_max_steps=max_shadow_steps, \n",
    "    gamma_corr=gamma_correction, \n",
    "    outside_color=outside_color,\n",
    "    radius=radius,\n",
    ")\n",
    "\n",
    "tint_color = \"#ffbb8a\"\n",
    "moon_disk_color = pymoon.main.tint_moon_image(moon_disk, color=tint_color, color_space=\"rgb\")\n",
    "\n",
    "img = Image.fromarray((moon_disk_color).astype(np.uint8))\n",
    "\n",
    "# save img this path\n",
    "img.save(\"example_2_static.png\")"
   ]
  },
  {
   "cell_type": "markdown",
   "id": "e163f984",
   "metadata": {},
   "source": [
    "Hello, I updated the Python module and the documentation. I attach an example Google Collab notebook and the documentation. The central function of the module is `get_moon_mask()`. It takes as input a vector of the Sun position and a vector for the observer position as main input.      "
   ]
  }
 ],
 "metadata": {
  "kernelspec": {
   "display_name": "Python 3",
   "language": "python",
   "name": "python3"
  },
  "language_info": {
   "codemirror_mode": {
    "name": "ipython",
    "version": 3
   },
   "file_extension": ".py",
   "mimetype": "text/x-python",
   "name": "python",
   "nbconvert_exporter": "python",
   "pygments_lexer": "ipython3",
   "version": "3.12.4"
  }
 },
 "nbformat": 4,
 "nbformat_minor": 5
}

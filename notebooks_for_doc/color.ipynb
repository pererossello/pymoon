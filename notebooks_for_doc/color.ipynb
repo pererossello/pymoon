{
 "cells": [
  {
   "cell_type": "code",
   "execution_count": 1,
   "id": "cfda2420",
   "metadata": {},
   "outputs": [],
   "source": [
    "\n",
    "%load_ext autoreload\n",
    "%autoreload 2\n",
    "\n",
    "import sys\n",
    "from PIL import Image\n",
    "\n",
    "import numpy as np\n",
    "import matplotlib.pyplot as plt\n",
    "import rasterio\n",
    "\n",
    "sys.path.append('..')\n",
    "import pymoon\n",
    "from pymoon.config import *"
   ]
  },
  {
   "cell_type": "code",
   "execution_count": 6,
   "id": "de42fc0b",
   "metadata": {},
   "outputs": [],
   "source": [
    "N_PIXELS = 1000\n",
    "model = 'lambert'\n",
    "shadows = False\n",
    "max_shadow_steps = 25\n",
    "gamma_correction = 1.25\n",
    "outside_color = \"#000000\"  # black\n",
    "radius = 0.95\n",
    "\n",
    "theta_S = pymoon.config.THETA_SUN\n",
    "\n",
    "alpha_deg = 45\n",
    "s_vec = [np.sin(np.radians(alpha_deg)), 0, np.cos(np.radians(alpha_deg))]\n",
    "\n",
    "obs_deg = 0\n",
    "obs_vec = [np.sin(np.radians(obs_deg)), 0, np.cos(np.radians(obs_deg))]\n",
    "\n",
    "moon_disk = pymoon.main.get_moon_mask(\n",
    "    N_PIXELS,\n",
    "    s_vec,\n",
    "    obs_vec=obs_vec,\n",
    "    dem=PATH_LDEM_4,\n",
    "    moonmap=PATH_LROC_COLOR_2K,\n",
    "    theta_S=THETA_SUN,\n",
    "    model=model,\n",
    "    shadows=shadows,\n",
    "    shadow_max_steps=max_shadow_steps, \n",
    "    gamma_corr=gamma_correction, \n",
    "    outside_color=outside_color,\n",
    "    radius=radius,\n",
    ")\n",
    "\n",
    "tint_color = \"#ffbb8a\"\n",
    "moon_disk_color = pymoon.main.tint_moon_image(moon_disk, color=tint_color, color_space=\"rgb\")\n",
    "\n",
    "img = Image.fromarray((moon_disk_color).astype(np.uint8))\n",
    "\n",
    "# save img this path\n",
    "save_filename = \"tinted_moon.png\"\n",
    "save_folder = \"plots_for_doc\"  # Update this to your desired save path\n",
    "img.save(f\"{save_folder}/{save_filename}\")"
   ]
  },
  {
   "cell_type": "code",
   "execution_count": null,
   "id": "54c3f45c",
   "metadata": {},
   "outputs": [],
   "source": []
  }
 ],
 "metadata": {
  "kernelspec": {
   "display_name": "Python 3",
   "language": "python",
   "name": "python3"
  },
  "language_info": {
   "codemirror_mode": {
    "name": "ipython",
    "version": 3
   },
   "file_extension": ".py",
   "mimetype": "text/x-python",
   "name": "python",
   "nbconvert_exporter": "python",
   "pygments_lexer": "ipython3",
   "version": "3.12.10"
  }
 },
 "nbformat": 4,
 "nbformat_minor": 5
}
